{
  "nbformat": 4,
  "nbformat_minor": 0,
  "metadata": {
    "colab": {
      "provenance": [],
      "authorship_tag": "ABX9TyMZANsZYCQWYO60TqsaCQz7",
      "include_colab_link": true
    },
    "kernelspec": {
      "name": "python3",
      "display_name": "Python 3"
    },
    "language_info": {
      "name": "python"
    }
  },
  "cells": [
    {
      "cell_type": "markdown",
      "metadata": {
        "id": "view-in-github",
        "colab_type": "text"
      },
      "source": [
        "<a href=\"https://colab.research.google.com/github/SHIVASAI16256/Prob-stats/blob/main/2303A52488_P%26S_LAB_6.ipynb\" target=\"_parent\"><img src=\"https://colab.research.google.com/assets/colab-badge.svg\" alt=\"Open In Colab\"/></a>"
      ]
    },
    {
      "cell_type": "code",
      "execution_count": null,
      "metadata": {
        "id": "M5Nyb-g2xkq4"
      },
      "outputs": [],
      "source": [
        "import numpy as np\n",
        "import matplotlib.pyplot as plt\n",
        "from scipy.stats import norm\n",
        "\n",
        "# QUESTION 1\n",
        "data = np.random.normal(30, 7, 1000)\n",
        "plt.hist(data, bins=30, density=True, alpha=0.6, color='b')\n",
        "x = np.linspace(min(data), max(data), 100)\n",
        "pdf = norm.pdf(x, 30, 7)\n",
        "plt.plot(x, pdf, 'r-', lw=2)\n",
        "plt.title('Normal Distribution (Mean=30, SD=7)')\n",
        "plt.xlabel('Value')\n",
        "plt.ylabel('Density')\n",
        "plt.show()\n",
        "\n",
        "# QUESTION 2\n",
        "mean_rhr = 50\n",
        "std_rhr = 10\n",
        "x = np.linspace(20, 80, 100)\n",
        "pdf = norm.pdf(x, mean_rhr, std_rhr)\n",
        "\n",
        "plt.figure(figsize=(10, 6))\n",
        "plt.plot(x, pdf, 'b-', lw=2)\n",
        "prob_geq_30 = 1 - norm.cdf(30, mean_rhr, std_rhr)\n",
        "x_geq_30 = np.linspace(30, 80, 100)\n",
        "plt.fill_between(x_geq_30, norm.pdf(x_geq_30, mean_rhr, std_rhr), color='green', alpha=0.5)\n",
        "plt.text(60, 0.02, f'P(RHR >= 30) = {prob_geq_30:.4f}', fontsize=10)\n",
        "plt.title('P(RHR >= 30 bpm)')\n",
        "plt.xlabel('RHR (bpm)')\n",
        "plt.ylabel('Probability Density')\n",
        "plt.show()\n",
        "\n",
        "plt.figure(figsize=(10, 6))\n",
        "plt.plot(x, pdf, 'b-', lw=2)\n",
        "prob_leq_30 = norm.cdf(30, mean_rhr, std_rhr)\n",
        "x_leq_30 = np.linspace(20, 30, 100)\n",
        "plt.fill_between(x_leq_30, norm.pdf(x_leq_30, mean_rhr, std_rhr), color='orange', alpha=0.5)\n",
        "plt.text(25, 0.01, f'P(RHR <= 30) = {prob_leq_30:.4f}', fontsize=10)\n",
        "plt.title('P(RHR <= 30 bpm)')\n",
        "plt.xlabel('RHR (bpm)')\n",
        "plt.ylabel('Probability Density')\n",
        "plt.show()\n",
        "\n",
        "plt.figure(figsize=(10, 6))\n",
        "plt.plot(x, pdf, 'b-', lw=2)\n",
        "prob_between_30_50 = norm.cdf(50, mean_rhr, std_rhr) - norm.cdf(30, mean_rhr, std_rhr)\n",
        "x_between_30_50 = np.linspace(30, 50, 100)\n",
        "plt.fill_between(x_between_30_50, norm.pdf(x_between_30_50, mean_rhr, std_rhr), color='purple', alpha=0.5)\n",
        "plt.text(40, 0.015, f'P(30 <= RHR <= 50) = {prob_between_30_50:.4f}', fontsize=10)\n",
        "plt.title('P(30 <= RHR <= 50 bpm)')\n",
        "plt.xlabel('RHR (bpm)')\n",
        "plt.ylabel('Probability Density')\n",
        "plt.show()"
      ]
    }
  ]
}