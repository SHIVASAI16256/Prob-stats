{
  "nbformat": 4,
  "nbformat_minor": 0,
  "metadata": {
    "colab": {
      "provenance": []
    },
    "kernelspec": {
      "name": "python3",
      "display_name": "Python 3"
    },
    "language_info": {
      "name": "python"
    }
  },
  "cells": [
    {
      "cell_type": "markdown",
      "source": [
        "# **Q1**"
      ],
      "metadata": {
        "id": "ge1NZ89IS5v6"
      }
    },
    {
      "cell_type": "code",
      "execution_count": null,
      "metadata": {
        "colab": {
          "base_uri": "https://localhost:8080/"
        },
        "id": "Kd3wWnhLQuBj",
        "outputId": "682876af-f6fb-48b8-c506-7adc64960f0e"
      },
      "outputs": [
        {
          "output_type": "stream",
          "name": "stdout",
          "text": [
            "13.464285714285714\n"
          ]
        }
      ],
      "source": [
        "ages = [10, 12, 15, 11, 13, 21]\n",
        "frequencies = [1, 4, 7, 9, 4, 3]\n",
        "\n",
        "total_age = sum(age*freq for age,freq in zip(ages,frequencies))\n",
        "total_freq = sum(frequencies)\n",
        "mean_age = total_age/total_freq\n",
        "print(mean_age)"
      ]
    },
    {
      "cell_type": "markdown",
      "source": [
        "# **Q2**"
      ],
      "metadata": {
        "id": "VfeOFGGMVYzP"
      }
    },
    {
      "cell_type": "code",
      "source": [
        "class_intervals = [(0, 10), (10, 20), (20, 30), (30, 40), (40, 50), (50, 60)]\n",
        "frequencies = [1, 8, 7, 8, 7, 6]\n",
        "\n",
        "mid_points = [(interval[0] + interval[1]) / 2 for interval in class_intervals]\n",
        "total_mid_sum = sum(mid_pt*freq for mid_pt,freq in zip(mid_points,frequencies))\n",
        "total_freq = sum(frequencies)\n",
        "mean_mid = total_mid_sum/total_freq\n",
        "print(mean_mid)"
      ],
      "metadata": {
        "colab": {
          "base_uri": "https://localhost:8080/"
        },
        "id": "fAlpSgCSVcLT",
        "outputId": "05a3fcd6-74fb-4c40-9517-897f29463075"
      },
      "execution_count": null,
      "outputs": [
        {
          "output_type": "stream",
          "name": "stdout",
          "text": [
            "33.108108108108105\n"
          ]
        }
      ]
    },
    {
      "cell_type": "markdown",
      "source": [
        "# **Q3**"
      ],
      "metadata": {
        "id": "rA_BnUPGYM9u"
      }
    },
    {
      "cell_type": "code",
      "source": [
        "dt = [13,22,25,25,14,23,31,16]\n",
        "\n",
        "mean = sum(dt) / len(dt)\n",
        "\n",
        "sum_var = sum((pt-mean)**2 for pt in dt)\n",
        "var = sum_var/len(dt)\n",
        "print(var)"
      ],
      "metadata": {
        "colab": {
          "base_uri": "https://localhost:8080/"
        },
        "id": "27IqLuA6YRk5",
        "outputId": "85b5427f-6d44-49ed-97d9-5e04d6c535ad"
      },
      "execution_count": null,
      "outputs": [
        {
          "output_type": "stream",
          "name": "stdout",
          "text": [
            "34.359375\n"
          ]
        }
      ]
    }
  ]
}