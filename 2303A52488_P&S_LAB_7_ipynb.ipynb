{
  "nbformat": 4,
  "nbformat_minor": 0,
  "metadata": {
    "colab": {
      "provenance": [],
      "authorship_tag": "ABX9TyNDLrZtIpRPXRMeW5B3m43M",
      "include_colab_link": true
    },
    "kernelspec": {
      "name": "python3",
      "display_name": "Python 3"
    },
    "language_info": {
      "name": "python"
    }
  },
  "cells": [
    {
      "cell_type": "markdown",
      "metadata": {
        "id": "view-in-github",
        "colab_type": "text"
      },
      "source": [
        "<a href=\"https://colab.research.google.com/github/SHIVASAI16256/Prob-stats/blob/main/2303A52488_P%26S_LAB_7_ipynb.ipynb\" target=\"_parent\"><img src=\"https://colab.research.google.com/assets/colab-badge.svg\" alt=\"Open In Colab\"/></a>"
      ]
    },
    {
      "cell_type": "code",
      "execution_count": 1,
      "metadata": {
        "colab": {
          "base_uri": "https://localhost:8080/"
        },
        "id": "y_Yfq36cySWu",
        "outputId": "9b86f93d-db76-4900-941f-56769756f1c3"
      },
      "outputs": [
        {
          "output_type": "stream",
          "name": "stdout",
          "text": [
            "Sample Mean: 27466.67\n",
            "Sample Standard Deviation: 3748.65\n",
            "95% Confidence Interval: (25390.73, 29542.60)\n",
            "The claimed mean of ₹30,000 does not lie within the 95% confidence interval. Reject the null hypothesis.\n"
          ]
        }
      ],
      "source": [
        "import numpy as np\n",
        "from scipy import stats\n",
        "\n",
        "data = [25000, 31000, 20000, 28000, 29500, 32000, 21000, 30500, 27000, 28500, 30000, 23000, 31000, 26000, 29500]\n",
        "sample_mean = np.mean(data)\n",
        "sample_std = np.std(data, ddof=1)\n",
        "n = len(data)\n",
        "df = n - 1\n",
        "t_critical = stats.t.ppf(0.975, df)\n",
        "margin_of_error = t_critical * (sample_std / np.sqrt(n))\n",
        "ci_lower = sample_mean - margin_of_error\n",
        "ci_upper = sample_mean + margin_of_error\n",
        "\n",
        "print(f\"Sample Mean: {sample_mean:.2f}\")\n",
        "print(f\"Sample Standard Deviation: {sample_std:.2f}\")\n",
        "print(f\"95% Confidence Interval: ({ci_lower:.2f}, {ci_upper:.2f})\")\n",
        "\n",
        "claimed_mean = 30000\n",
        "if ci_lower <= claimed_mean <= ci_upper:\n",
        "    print(\"The claimed mean of ₹30,000 lies within the 95% confidence interval. Fail to reject the null hypothesis.\")\n",
        "else:\n",
        "    print(\"The claimed mean of ₹30,000 does not lie within the 95% confidence interval. Reject the null hypothesis.\")"
      ]
    }
  ]
}