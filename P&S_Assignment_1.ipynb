{
  "nbformat": 4,
  "nbformat_minor": 0,
  "metadata": {
    "colab": {
      "provenance": []
    },
    "kernelspec": {
      "name": "python3",
      "display_name": "Python 3"
    },
    "language_info": {
      "name": "python"
    }
  },
  "cells": [
    {
      "cell_type": "code",
      "execution_count": null,
      "metadata": {
        "colab": {
          "base_uri": "https://localhost:8080/"
        },
        "id": "VqEksrancAtE",
        "outputId": "d7a398be-b206-4932-fb49-b1bf25598eef"
      },
      "outputs": [
        {
          "output_type": "stream",
          "name": "stdout",
          "text": [
            "Number of Days: 33\n",
            "Sum of Travel Times: 767\n",
            "\n",
            "Discrete Distribution Table:\n",
            "   Travel Time  Frequency  Relative Frequency  Percentage\n",
            "0           26          4            0.121212   12.121212\n",
            "1           15          6            0.181818   18.181818\n",
            "2           22          4            0.121212   12.121212\n",
            "3           18          5            0.151515   15.151515\n",
            "4           32          3            0.090909    9.090909\n",
            "5           23          3            0.090909    9.090909\n",
            "6           24          4            0.121212   12.121212\n",
            "7           25          2            0.060606    6.060606\n",
            "8           36          1            0.030303    3.030303\n",
            "9           48          1            0.030303    3.030303\n"
          ]
        }
      ],
      "source": [
        "import pandas as pd\n",
        "from collections import Counter\n",
        "\n",
        "travel_times = [26, 15, 22, 15, 18, 15, 32, 15, 22, 15, 18, 23, 24, 18,\n",
        "                24, 18, 26, 18, 22, 26, 22, 23, 23, 32, 24, 25,\n",
        "                15, 25, 26, 32, 36, 48, 24]\n",
        "\n",
        "number_of_days = len(travel_times)\n",
        "sum_of_travel_times = sum(travel_times)\n",
        "\n",
        "count_values = Counter(travel_times)\n",
        "distribution_table = pd.DataFrame(count_values.items(), columns=['Travel Time', 'Frequency'])\n",
        "distribution_table['Relative Frequency'] = distribution_table['Frequency'] / number_of_days\n",
        "distribution_table['Percentage'] = distribution_table['Relative Frequency'] * 100\n",
        "\n",
        "print(f\"Number of Days: {number_of_days}\")\n",
        "print(f\"Sum of Travel Times: {sum_of_travel_times}\")\n",
        "print(\"\\nDiscrete Distribution Table:\")\n",
        "print(distribution_table)"
      ]
    },
    {
      "cell_type": "code",
      "source": [
        "import pandas as pd\n",
        "import numpy as np\n",
        "\n",
        "lifetimes = [\n",
        "    112, 121, 126, 108, 141, 104, 136, 134,\n",
        "    121, 118, 143, 116, 108, 122, 127, 140,\n",
        "    113, 117, 126, 130, 134, 120, 131, 133,\n",
        "    118, 125, 151, 147, 137, 140, 132, 119,\n",
        "    110, 124, 132, 152, 135, 130, 136, 128\n",
        "]\n",
        "\n",
        "bins = np.arange(100, max(lifetimes) + 5, 5)\n",
        "frequency_distribution = pd.cut(lifetimes, bins).value_counts().sort_index()\n",
        "\n",
        "df = frequency_distribution.reset_index()\n",
        "df.columns = ['Lifetime Interval', 'Frequency']\n",
        "total_transistors = len(lifetimes)\n",
        "\n",
        "df['Relative Frequency'] = df['Frequency'] / total_transistors\n",
        "df['Percentage'] = df['Relative Frequency'] * 100\n",
        "\n",
        "total_row = pd.DataFrame({'Lifetime Interval': ['Total'],\n",
        "                          'Frequency': [df['Frequency'].sum()],\n",
        "                          'Relative Frequency': [1.0],\n",
        "                          'Percentage': [100.0]})\n",
        "df = pd.concat([df, total_row], ignore_index=True)\n",
        "\n",
        "print(f\"Total Number of Transistors: {total_transistors}\")\n",
        "print(\"\\nContinuous Frequency Distribution:\")\n",
        "print(df)"
      ],
      "metadata": {
        "id": "23_RmIM9fsx8",
        "colab": {
          "base_uri": "https://localhost:8080/"
        },
        "outputId": "314f0d34-812f-4b07-9832-944aa4cdce75"
      },
      "execution_count": null,
      "outputs": [
        {
          "output_type": "stream",
          "name": "stdout",
          "text": [
            "Total Number of Transistors: 40\n",
            "\n",
            "Continuous Frequency Distribution:\n",
            "   Lifetime Interval  Frequency  Relative Frequency  Percentage\n",
            "0         (100, 105]          1               0.025         2.5\n",
            "1         (105, 110]          3               0.075         7.5\n",
            "2         (110, 115]          2               0.050         5.0\n",
            "3         (115, 120]          6               0.150        15.0\n",
            "4         (120, 125]          5               0.125        12.5\n",
            "5         (125, 130]          6               0.150        15.0\n",
            "6         (130, 135]          7               0.175        17.5\n",
            "7         (135, 140]          5               0.125        12.5\n",
            "8         (140, 145]          2               0.050         5.0\n",
            "9         (145, 150]          1               0.025         2.5\n",
            "10        (150, 155]          2               0.050         5.0\n",
            "11             Total         40               1.000       100.0\n"
          ]
        }
      ]
    }
  ]
}