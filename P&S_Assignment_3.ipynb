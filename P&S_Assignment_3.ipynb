{
  "nbformat": 4,
  "nbformat_minor": 0,
  "metadata": {
    "colab": {
      "provenance": []
    },
    "kernelspec": {
      "name": "python3",
      "display_name": "Python 3"
    },
    "language_info": {
      "name": "python"
    }
  },
  "cells": [
    {
      "cell_type": "code",
      "execution_count": null,
      "metadata": {
        "colab": {
          "base_uri": "https://localhost:8080/"
        },
        "id": "Gb2Jy7LoPgqZ",
        "outputId": "daf3c44c-2012-48f1-d6bf-fed6d681a0e7"
      },
      "outputs": [
        {
          "output_type": "stream",
          "name": "stdout",
          "text": [
            "Median (using numpy): 45.0\n",
            "Mode (using numpy): 45\n",
            "Mode (using pandas): 45\n"
          ]
        }
      ],
      "source": [
        "#Question 1\n",
        "\n",
        "import numpy as np\n",
        "import pandas as pd\n",
        "from scipy import stats\n",
        "\n",
        "data = [12, 45, 67, 23, 45, 89, 45, 12, 33, 67, 67, 78, 45, 23, 23, 56, 89, 45, 33, 45]\n",
        "\n",
        "median_np = np.median(data)\n",
        "\n",
        "mode_np = stats.mode(data).mode\n",
        "\n",
        "mode_pd = pd.Series(data).mode().iloc[0]\n",
        "\n",
        "print(\"Median (using numpy):\", median_np)\n",
        "print(\"Mode (using numpy):\", mode_np)\n",
        "print(\"Mode (using pandas):\", mode_pd)\n",
        "\n"
      ]
    },
    {
      "cell_type": "code",
      "source": [
        "#Question 2\n",
        "\n",
        "import numpy as np\n",
        "import pandas as pd\n",
        "from scipy import stats\n",
        "\n",
        "scores = [10, 20, 30, 40, 50]\n",
        "frequencies = [5, 8, 12, 15, 7]\n",
        "\n",
        "data_expanded = np.repeat(scores, frequencies)\n",
        "\n",
        "median_np = np.median(data_expanded)\n",
        "\n",
        "mode_np = stats.mode(data_expanded).mode\n",
        "\n",
        "mode_pd = pd.Series(data_expanded).mode().iloc[0]\n",
        "\n",
        "print(\"Median (using numpy):\", median_np)\n",
        "print(\"Mode (using numpy):\", mode_np)\n",
        "print(\"Mode (using pandas):\", mode_pd)\n"
      ],
      "metadata": {
        "colab": {
          "base_uri": "https://localhost:8080/"
        },
        "id": "KjJkPMGVZlvL",
        "outputId": "1defe8b4-2f68-4572-bda5-08193cb0a222"
      },
      "execution_count": null,
      "outputs": [
        {
          "output_type": "stream",
          "name": "stdout",
          "text": [
            "Median (using numpy): 30.0\n",
            "Mode (using numpy): 40\n",
            "Mode (using pandas): 40\n"
          ]
        }
      ]
    },
    {
      "cell_type": "code",
      "source": [
        "import numpy as np\n",
        "\n",
        "class_intervals = [(0, 10), (10, 20), (20, 30), (30, 40), (40, 50)]\n",
        "frequencies = [4, 6, 10, 8, 2]\n",
        "\n",
        "cumulative_frequencies = np.cumsum(frequencies)\n",
        "total_data_points = sum(frequencies)\n",
        "class_width = class_intervals[0][1] - class_intervals[0][0]\n",
        "\n",
        "median_class_index = next(i for i, cf in enumerate(cumulative_frequencies) if cf >= total_data_points / 2)\n",
        "L_median = class_intervals[median_class_index][0]\n",
        "F_before_median = cumulative_frequencies[median_class_index - 1] if median_class_index > 0 else 0\n",
        "median_grouped = L_median + ((total_data_points / 2 - F_before_median) / frequencies[median_class_index]) * class_width\n",
        "\n",
        "mode_class_index = np.argmax(frequencies)\n",
        "L_mode = class_intervals[mode_class_index][0]\n",
        "f_prev = frequencies[mode_class_index - 1] if mode_class_index > 0 else 0\n",
        "f_next = frequencies[mode_class_index + 1] if mode_class_index < len(frequencies) - 1 else 0\n",
        "mode_grouped = L_mode + ((frequencies[mode_class_index] - f_prev) / (2 * frequencies[mode_class_index] - f_prev - f_next)) * class_width\n",
        "\n",
        "print(\"Median (grouped data):\", median_grouped)\n",
        "print(\"Mode (grouped data):\", mode_grouped)\n"
      ],
      "metadata": {
        "colab": {
          "base_uri": "https://localhost:8080/"
        },
        "id": "WIkkF2i6dpfg",
        "outputId": "7252f515-5297-43e9-9a89-f8cf54b95110"
      },
      "execution_count": null,
      "outputs": [
        {
          "output_type": "stream",
          "name": "stdout",
          "text": [
            "Median (grouped data): 25.0\n",
            "Mode (grouped data): 26.666666666666664\n"
          ]
        }
      ]
    }
  ]
}
